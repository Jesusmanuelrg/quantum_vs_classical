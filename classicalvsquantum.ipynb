{
  "nbformat": 4,
  "nbformat_minor": 0,
  "metadata": {
    "colab": {
      "provenance": []
    },
    "kernelspec": {
      "name": "python3",
      "display_name": "Python 3"
    },
    "language_info": {
      "name": "python"
    }
  },
  "cells": [
    {
      "cell_type": "code",
      "source": [
        "pip install -qU pandas numpy scikit-learn qiskit"
      ],
      "metadata": {
        "id": "loDVVfNF4u7i"
      },
      "execution_count": null,
      "outputs": []
    },
    {
      "cell_type": "code",
      "source": [
        "from sklearn import datasets\n",
        "from sklearn.model_selection import train_test_split\n",
        "from sklearn.preprocessing import StandardScaler\n",
        "from sklearn.svm import SVC\n",
        "from sklearn.metrics import accuracy_score"
      ],
      "metadata": {
        "id": "uSCW-BLQ4uxm"
      },
      "execution_count": null,
      "outputs": []
    },
    {
      "cell_type": "markdown",
      "source": [
        "## Classical Computer"
      ],
      "metadata": {
        "id": "W60X2AhcKmlb"
      }
    },
    {
      "cell_type": "code",
      "source": [
        "iris = datasets.load_iris()\n",
        "X = iris.data\n",
        "y = iris.target\n",
        "\n",
        "# Split data into training and testing sets\n",
        "X_train, X_test, y_train, y_test = train_test_split(X, y, test_size=0.3, random_state=42)\n",
        "\n",
        "# Standardize features\n",
        "scaler = StandardScaler()\n",
        "X_train = scaler.fit_transform(X_train)\n",
        "X_test = scaler.transform(X_test)\n",
        "\n",
        "# Initialize SVM classifier\n",
        "svm_clf = SVC(kernel='linear', random_state=42)\n",
        "\n",
        "# Train the SVM classifier\n",
        "svm_clf.fit(X_train, y_train)\n",
        "\n",
        "# Predict on the test set\n",
        "y_pred = svm_clf.predict(X_test)\n",
        "\n",
        "# Calculate accuracy\n",
        "accuracy = accuracy_score(y_test, y_pred)\n",
        "print(f\"Classical SVM Accuracy: {accuracy}\")"
      ],
      "metadata": {
        "id": "TrjMF03WXVye"
      },
      "execution_count": 22,
      "outputs": []
    },
    {
      "cell_type": "markdown",
      "source": [
        "***\n",
        "## Quantum Computer"
      ],
      "metadata": {
        "id": "-a9RXvPgKvuL"
      }
    },
    {
      "cell_type": "code",
      "source": [
        "from qiskit_aer import Aer\n",
        "from qiskit.utils import algorithm_globals\n",
        "from qiskit_machine_learning.circuit.library import RawFeatureVector\n",
        "from qiskit_machine_learning.algorithms import QSVM\n",
        "from qiskit.circuit.library import ZZFeatureMap\n",
        "from qiskit import OneAgainstRest, QuantumInstance"
      ],
      "metadata": {
        "id": "wrEpiEYebDRw"
      },
      "execution_count": 16,
      "outputs": []
    },
    {
      "cell_type": "code",
      "source": [
        "# Initialize feature map\n",
        "feature_map = ZZFeatureMap(feature_dimension=4, reps=2)\n",
        "\n",
        "# Initialize Quantum Instance (use Aer simulator for now)\n",
        "quantum_instance = QuantumInstance(Aer.get_backend('qasm_simulator'), shots=1024)\n",
        "\n",
        "# Initialize QSVM\n",
        "qsvm = QSVM(feature_map, training_dataset=X_train, testing_dataset=X_test, multiclass_extension=OneAgainstRest())\n",
        "\n",
        "# Run QSVM\n",
        "result = qsvm.run(quantum_instance)\n",
        "\n",
        "# Print results\n",
        "print(f\"Quantum SVM Accuracy: {result['testing_accuracy']}\")"
      ],
      "metadata": {
        "id": "HFyE2e1PbBXX"
      },
      "execution_count": null,
      "outputs": []
    }
  ]
}